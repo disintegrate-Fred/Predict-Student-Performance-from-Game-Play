{
 "cells": [
  {
   "cell_type": "code",
   "execution_count": 1,
   "id": "16c717a2",
   "metadata": {
    "execution": {
     "iopub.execute_input": "2023-05-27T14:30:56.513691Z",
     "iopub.status.busy": "2023-05-27T14:30:56.513261Z",
     "iopub.status.idle": "2023-05-27T14:30:59.503499Z",
     "shell.execute_reply": "2023-05-27T14:30:59.502197Z"
    },
    "papermill": {
     "duration": 3.003529,
     "end_time": "2023-05-27T14:30:59.506663",
     "exception": false,
     "start_time": "2023-05-27T14:30:56.503134",
     "status": "completed"
    },
    "tags": []
   },
   "outputs": [],
   "source": [
    "import numpy as np\n",
    "import pandas as pd\n",
    "import polars as pl\n",
    "from tqdm import tqdm\n",
    "from sklearn.metrics import f1_score\n",
    "from sklearn.model_selection import GroupKFold, KFold\n",
    "from catboost import CatBoostClassifier, Pool\n",
    "import matplotlib.pyplot as plt\n",
    "import warnings\n",
    "from itertools import combinations\n",
    "import math\n",
    "\n",
    "\n",
    "warnings.filterwarnings('ignore')\n",
    "pd.set_option(\"display.max_columns\", None)\n",
    "pd.set_option(\"display.max_rows\", 200)\n",
    "\n",
    "targets = pd.read_csv('../input/predict-student-performance-from-game-play/train_labels.csv')\n",
    "targets['session'] = targets.session_id.apply(lambda x: int(x.split('_')[0]))\n",
    "targets['q'] = targets.session_id.apply(lambda x: int(x.split('_')[-1][1:]))\n"
   ]
  },
  {
   "cell_type": "code",
   "execution_count": 2,
   "id": "7cb258d5",
   "metadata": {
    "execution": {
     "iopub.execute_input": "2023-05-27T14:30:59.971523Z",
     "iopub.status.busy": "2023-05-27T14:30:59.971103Z",
     "iopub.status.idle": "2023-05-27T14:32:42.110205Z",
     "shell.execute_reply": "2023-05-27T14:32:42.108857Z"
    },
    "papermill": {
     "duration": 102.153945,
     "end_time": "2023-05-27T14:32:42.113316",
     "exception": false,
     "start_time": "2023-05-27T14:30:59.959371",
     "status": "completed"
    },
    "tags": []
   },
   "outputs": [],
   "source": [
    "\n",
    "\n",
    "columns = [\n",
    "    pl.col(\"page\").cast(pl.Float32),\n",
    "    (\n",
    "        (pl.col(\"elapsed_time\") - pl.col(\"elapsed_time\").shift(1))\n",
    "        .fill_null(0)\n",
    "        .clip(0, 1e9)\n",
    "        .over([\"session_id\", \"level\"])\n",
    "        .alias(\"elapsed_time_diff\")\n",
    "    ),\n",
    "    (\n",
    "        (pl.col(\"screen_coor_x\") - pl.col(\"screen_coor_x\").shift(1))\n",
    "        .abs()\n",
    "        .over([\"session_id\", \"level\"])\n",
    "    ),\n",
    "    (\n",
    "        (pl.col(\"screen_coor_y\") - pl.col(\"screen_coor_y\").shift(1))\n",
    "        .abs()\n",
    "        .over([\"session_id\", \"level\"])\n",
    "    ),\n",
    "    pl.col(\"fqid\").fill_null(\"fqid_None\"),\n",
    "    pl.col(\"text_fqid\").fill_null(\"text_fqid_None\"),\n",
    "    pl.col(\"text\").fill_null(\"text_None\")\n",
    "\n",
    "]\n",
    "\n",
    "CATS = ['event_name', 'name', 'fqid', 'room_fqid', 'text_fqid']\n",
    "NUMS = ['page', 'room_coor_x', 'room_coor_y', 'screen_coor_x', 'screen_coor_y',\n",
    "        'hover_duration', 'elapsed_time_diff', 'fullscreen', 'hq', 'music']\n",
    "fqid_lists = ['worker', 'archivist', 'gramps', 'wells', 'toentry', 'confrontation', 'crane_ranger', 'groupconvo', 'flag_girl', 'tomap', 'tostacks', 'tobasement', 'archivist_glasses', 'boss', 'journals', 'seescratches', 'groupconvo_flag', 'cs', 'teddy', 'expert', 'businesscards', 'ch3start', 'tunic.historicalsociety', 'tofrontdesk', 'savedteddy', 'plaque', 'glasses', 'tunic.drycleaner', 'reader_flag', 'tunic.library', 'tracks', 'tunic.capitol_2', 'trigger_scarf', 'reader', 'directory', 'tunic.capitol_1', 'journals.pic_0.next', 'unlockdoor', 'tunic', 'what_happened', 'tunic.kohlcenter', 'tunic.humanecology', 'colorbook', 'logbook', 'businesscards.card_0.next', 'journals.hub.topics', 'logbook.page.bingo', 'journals.pic_1.next', 'journals_flag', 'reader.paper0.next', 'tracks.hub.deer', 'reader_flag.paper0.next', 'trigger_coffee', 'wellsbadge', 'journals.pic_2.next', 'tomicrofiche', 'journals_flag.pic_0.bingo', 'plaque.face.date', 'notebook', 'tocloset_dirty', 'businesscards.card_bingo.bingo', 'businesscards.card_1.next', 'tunic.wildlife', 'tunic.hub.slip', 'tocage', 'journals.pic_2.bingo', 'tocollectionflag', 'tocollection', 'chap4_finale_c', 'chap2_finale_c', 'lockeddoor', 'journals_flag.hub.topics', 'tunic.capitol_0', 'reader_flag.paper2.bingo', 'photo', 'tunic.flaghouse', 'reader.paper1.next', 'directory.closeup.archivist', 'intro', 'businesscards.card_bingo.next', 'reader.paper2.bingo', 'retirement_letter', 'remove_cup', 'journals_flag.pic_0.next', 'magnify', 'coffee', 'key', 'togrampa', 'reader_flag.paper1.next', 'janitor', 'tohallway', 'chap1_finale', 'report', 'outtolunch', 'journals_flag.hub.topics_old', 'journals_flag.pic_1.next', 'reader.paper2.next', 'chap1_finale_c', 'reader_flag.paper2.next', 'door_block_talk', 'journals_flag.pic_1.bingo', 'journals_flag.pic_2.next', 'journals_flag.pic_2.bingo', 'block_magnify', 'reader.paper0.prev', 'block', 'reader_flag.paper0.prev', 'block_0', 'door_block_clean', 'reader.paper2.prev', 'reader.paper1.prev', 'doorblock', 'tocloset', 'reader_flag.paper2.prev', 'reader_flag.paper1.prev', 'block_tomap2', 'journals_flag.pic_0_old.next', 'journals_flag.pic_1_old.next', 'block_tocollection', 'block_nelson', 'journals_flag.pic_2_old.next', 'block_tomap1', 'block_badge', 'need_glasses', 'block_badge_2', 'fox', 'block_1']\n",
    "DIALOGS = ['that', 'this', 'it', 'you','find','found','Found','notebook','Wells','wells','help','need', 'Oh','Ooh','Jo', 'flag', 'can','and','is','the','to']\n",
    "\n",
    "name_feature = ['basic', 'undefined', 'close', 'open', 'prev', 'next']\n",
    "event_name_feature = ['cutscene_click', 'person_click', 'navigate_click',\n",
    "       'observation_click', 'notification_click', 'object_click',\n",
    "       'object_hover', 'map_hover', 'map_click', 'checkpoint',\n",
    "       'notebook_click']\n",
    "text_lists = ['tunic.historicalsociety.cage.confrontation', 'tunic.wildlife.center.crane_ranger.crane', 'tunic.historicalsociety.frontdesk.archivist.newspaper', 'tunic.historicalsociety.entry.groupconvo', 'tunic.wildlife.center.wells.nodeer', 'tunic.historicalsociety.frontdesk.archivist.have_glass', 'tunic.drycleaner.frontdesk.worker.hub', 'tunic.historicalsociety.closet_dirty.gramps.news', 'tunic.humanecology.frontdesk.worker.intro', 'tunic.historicalsociety.frontdesk.archivist_glasses.confrontation', 'tunic.historicalsociety.basement.seescratches', 'tunic.historicalsociety.collection.cs', 'tunic.flaghouse.entry.flag_girl.hello', 'tunic.historicalsociety.collection.gramps.found', 'tunic.historicalsociety.basement.ch3start', 'tunic.historicalsociety.entry.groupconvo_flag', 'tunic.library.frontdesk.worker.hello', 'tunic.library.frontdesk.worker.wells', 'tunic.historicalsociety.collection_flag.gramps.flag', 'tunic.historicalsociety.basement.savedteddy', 'tunic.library.frontdesk.worker.nelson', 'tunic.wildlife.center.expert.removed_cup', 'tunic.library.frontdesk.worker.flag', 'tunic.historicalsociety.frontdesk.archivist.hello', 'tunic.historicalsociety.closet.gramps.intro_0_cs_0', 'tunic.historicalsociety.entry.boss.flag', 'tunic.flaghouse.entry.flag_girl.symbol', 'tunic.historicalsociety.closet_dirty.trigger_scarf', 'tunic.drycleaner.frontdesk.worker.done', 'tunic.historicalsociety.closet_dirty.what_happened', 'tunic.wildlife.center.wells.animals', 'tunic.historicalsociety.closet.teddy.intro_0_cs_0', 'tunic.historicalsociety.cage.glasses.afterteddy', 'tunic.historicalsociety.cage.teddy.trapped', 'tunic.historicalsociety.cage.unlockdoor', 'tunic.historicalsociety.stacks.journals.pic_2.bingo', 'tunic.historicalsociety.entry.wells.flag', 'tunic.humanecology.frontdesk.worker.badger', 'tunic.historicalsociety.stacks.journals_flag.pic_0.bingo', 'tunic.historicalsociety.closet.intro', 'tunic.historicalsociety.closet.retirement_letter.hub', 'tunic.historicalsociety.entry.directory.closeup.archivist', 'tunic.historicalsociety.collection.tunic.slip', 'tunic.kohlcenter.halloffame.plaque.face.date', 'tunic.historicalsociety.closet_dirty.trigger_coffee', 'tunic.drycleaner.frontdesk.logbook.page.bingo', 'tunic.library.microfiche.reader.paper2.bingo', 'tunic.kohlcenter.halloffame.togrampa', 'tunic.capitol_2.hall.boss.haveyougotit', 'tunic.wildlife.center.wells.nodeer_recap', 'tunic.historicalsociety.cage.glasses.beforeteddy', 'tunic.historicalsociety.closet_dirty.gramps.helpclean', 'tunic.wildlife.center.expert.recap', 'tunic.historicalsociety.frontdesk.archivist.have_glass_recap', 'tunic.historicalsociety.stacks.journals_flag.pic_1.bingo', 'tunic.historicalsociety.cage.lockeddoor', 'tunic.historicalsociety.stacks.journals_flag.pic_2.bingo', 'tunic.historicalsociety.collection.gramps.lost', 'tunic.historicalsociety.closet.notebook', 'tunic.historicalsociety.frontdesk.magnify', 'tunic.humanecology.frontdesk.businesscards.card_bingo.bingo', 'tunic.wildlife.center.remove_cup', 'tunic.library.frontdesk.wellsbadge.hub', 'tunic.wildlife.center.tracks.hub.deer', 'tunic.historicalsociety.frontdesk.key', 'tunic.library.microfiche.reader_flag.paper2.bingo', 'tunic.flaghouse.entry.colorbook', 'tunic.wildlife.center.coffee', 'tunic.capitol_1.hall.boss.haveyougotit', 'tunic.historicalsociety.basement.janitor', 'tunic.historicalsociety.collection_flag.gramps.recap', 'tunic.wildlife.center.wells.animals2', 'tunic.flaghouse.entry.flag_girl.symbol_recap', 'tunic.historicalsociety.closet_dirty.photo', 'tunic.historicalsociety.stacks.outtolunch', 'tunic.library.frontdesk.worker.wells_recap', 'tunic.historicalsociety.frontdesk.archivist_glasses.confrontation_recap', 'tunic.capitol_0.hall.boss.talktogramps', 'tunic.historicalsociety.closet.photo', 'tunic.historicalsociety.collection.tunic', 'tunic.historicalsociety.closet.teddy.intro_0_cs_5', 'tunic.historicalsociety.closet_dirty.gramps.archivist', 'tunic.historicalsociety.closet_dirty.door_block_talk', 'tunic.historicalsociety.entry.boss.flag_recap', 'tunic.historicalsociety.frontdesk.archivist.need_glass_0', 'tunic.historicalsociety.entry.wells.talktogramps', 'tunic.historicalsociety.frontdesk.block_magnify', 'tunic.historicalsociety.frontdesk.archivist.foundtheodora', 'tunic.historicalsociety.closet_dirty.gramps.nothing', 'tunic.historicalsociety.closet_dirty.door_block_clean', 'tunic.capitol_1.hall.boss.writeitup', 'tunic.library.frontdesk.worker.nelson_recap', 'tunic.library.frontdesk.worker.hello_short', 'tunic.historicalsociety.stacks.block', 'tunic.historicalsociety.frontdesk.archivist.need_glass_1', 'tunic.historicalsociety.entry.boss.talktogramps', 'tunic.historicalsociety.frontdesk.archivist.newspaper_recap', 'tunic.historicalsociety.entry.wells.flag_recap', 'tunic.drycleaner.frontdesk.worker.done2', 'tunic.library.frontdesk.worker.flag_recap', 'tunic.humanecology.frontdesk.block_0', 'tunic.library.frontdesk.worker.preflag', 'tunic.historicalsociety.basement.gramps.seeyalater', 'tunic.flaghouse.entry.flag_girl.hello_recap', 'tunic.historicalsociety.closet.doorblock', 'tunic.drycleaner.frontdesk.worker.takealook', 'tunic.historicalsociety.basement.gramps.whatdo', 'tunic.library.frontdesk.worker.droppedbadge', 'tunic.historicalsociety.entry.block_tomap2', 'tunic.library.frontdesk.block_nelson', 'tunic.library.microfiche.block_0', 'tunic.historicalsociety.entry.block_tocollection', 'tunic.historicalsociety.entry.block_tomap1', 'tunic.historicalsociety.collection.gramps.look_0', 'tunic.library.frontdesk.block_badge', 'tunic.historicalsociety.cage.need_glasses', 'tunic.library.frontdesk.block_badge_2', 'tunic.kohlcenter.halloffame.block_0', 'tunic.capitol_0.hall.chap1_finale_c', 'tunic.capitol_1.hall.chap2_finale_c', 'tunic.capitol_2.hall.chap4_finale_c', 'tunic.wildlife.center.fox.concern', 'tunic.drycleaner.frontdesk.block_0', 'tunic.historicalsociety.entry.gramps.hub', 'tunic.humanecology.frontdesk.block_1', 'tunic.drycleaner.frontdesk.block_1']\n",
    "room_lists = ['tunic.historicalsociety.entry', 'tunic.wildlife.center', 'tunic.historicalsociety.cage', 'tunic.library.frontdesk', 'tunic.historicalsociety.frontdesk', 'tunic.historicalsociety.stacks', 'tunic.historicalsociety.closet_dirty', 'tunic.humanecology.frontdesk', 'tunic.historicalsociety.basement', 'tunic.kohlcenter.halloffame', 'tunic.library.microfiche', 'tunic.drycleaner.frontdesk', 'tunic.historicalsociety.collection', 'tunic.historicalsociety.closet', 'tunic.flaghouse.entry', 'tunic.historicalsociety.collection_flag', 'tunic.capitol_1.hall', 'tunic.capitol_0.hall', 'tunic.capitol_2.hall']\n",
    "\n",
    "LEVELS = [1, 2, 3, 4, 5, 6, 7, 8, 9, 10, 11, 12, 13, 14, 15, 16, 17, 18, 19, 20, 21, 22]\n",
    "level_groups = [\"0-4\", \"5-12\", \"13-22\"]\n",
    "\n",
    "\n",
    "\n",
    "\n",
    "def feature_engineer(x, grp, use_extra, feature_suffix):\n",
    "    aggs = [\n",
    "        pl.col(\"index\").count().alias(f\"session_number_{feature_suffix}\"),\n",
    "\n",
    "        *[pl.col('index').filter(pl.col('text').str.contains(c)).count().alias(f'word_{c}') for c in DIALOGS],\n",
    "        *[pl.col(\"elapsed_time_diff\").filter((pl.col('text').str.contains(c))).mean().alias(f'word_mean_{c}') for c in\n",
    "          DIALOGS],\n",
    "        *[pl.col(\"elapsed_time_diff\").filter((pl.col('text').str.contains(c))).std().alias(f'word_std_{c}') for c in\n",
    "          DIALOGS],\n",
    "        *[pl.col(\"elapsed_time_diff\").filter((pl.col('text').str.contains(c))).max().alias(f'word_max_{c}') for c in\n",
    "          DIALOGS],\n",
    "        *[pl.col(\"elapsed_time_diff\").filter((pl.col('text').str.contains(c))).sum().alias(f'word_sum_{c}') for c in\n",
    "          DIALOGS],\n",
    "        *[pl.col(\"elapsed_time_diff\").filter((pl.col('text').str.contains(c))).median().alias(f'word_median_{c}') for c\n",
    "          in DIALOGS],\n",
    "        #text_v2\n",
    "        *[pl.col('text_code').filter(pl.col('text_code') == c).count().alias(f'{c}_text_code_counts{feature_suffix}') for c in test_list],\n",
    "        *[pl.col(\"elapsed_time_diff\").filter((pl.col('text_code') == c)).mean().alias(f'{c}_text_mean_{feature_suffix}') for c in\n",
    "          test_list],\n",
    "        *[pl.col(\"elapsed_time_diff\").filter((pl.col('text_code') == c)).std().alias(f'{c}_text_std_{feature_suffix}') for c in\n",
    "          test_list],\n",
    "        *[pl.col(\"elapsed_time_diff\").filter((pl.col('text_code') == c)).max().alias(f'{c}_text_max_{feature_suffix}') for c in\n",
    "          test_list],\n",
    "        *[pl.col(\"elapsed_time_diff\").filter((pl.col('text_code') == c)).sum().alias(f'{c}_text_sum_{feature_suffix}') for c in\n",
    "          test_list],\n",
    "        *[pl.col(\"elapsed_time_diff\").filter((pl.col('text_code') == c)).median().alias(f'{c}_text_median_{feature_suffix}') for c\n",
    "          in test_list],\n",
    "        \n",
    "        \n",
    "        *[pl.col(c).drop_nulls().n_unique().alias(f\"{c}_unique_{feature_suffix}\") for c in CATS],\n",
    "\n",
    "        *[pl.col(c).mean().alias(f\"{c}_mean_{feature_suffix}\") for c in NUMS],\n",
    "        *[pl.col(c).std().alias(f\"{c}_std_{feature_suffix}\") for c in NUMS],\n",
    "        *[pl.col(c).min().alias(f\"{c}_min_{feature_suffix}\") for c in NUMS],\n",
    "        *[pl.col(c).max().alias(f\"{c}_max_{feature_suffix}\") for c in NUMS],\n",
    "        *[pl.col(c).median().alias(f\"{c}_median_{feature_suffix}\") for c in NUMS],\n",
    "\n",
    "        *[pl.col(\"fqid\").filter(pl.col(\"fqid\") == c).count().alias(f\"{c}_fqid_counts{feature_suffix}\")\n",
    "          for c in fqid_lists],\n",
    "        *[pl.col(\"elapsed_time_diff\").filter(pl.col(\"fqid\") == c).std().alias(f\"{c}_ET_std_{feature_suffix}\") for\n",
    "          c in fqid_lists],\n",
    "        *[pl.col(\"elapsed_time_diff\").filter(pl.col(\"fqid\") == c).mean().alias(f\"{c}_ET_mean_{feature_suffix}\") for\n",
    "          c in fqid_lists],\n",
    "        *[pl.col(\"elapsed_time_diff\").filter(pl.col(\"fqid\") == c).sum().alias(f\"{c}_ET_sum_{feature_suffix}\") for\n",
    "          c in fqid_lists],\n",
    "        *[pl.col(\"elapsed_time_diff\").filter(pl.col(\"fqid\") == c).median().alias(f\"{c}_ET_median_{feature_suffix}\") for\n",
    "          c in fqid_lists],\n",
    "        *[pl.col(\"elapsed_time_diff\").filter(pl.col(\"fqid\") == c).max().alias(f\"{c}_ET_max_{feature_suffix}\") for\n",
    "          c in fqid_lists],\n",
    "\n",
    "        *[pl.col(\"text_fqid\").filter(pl.col(\"text_fqid\") == c).count().alias(f\"{c}_text_fqid_counts{feature_suffix}\")\n",
    "          for\n",
    "          c in text_lists],\n",
    "        *[pl.col(\"elapsed_time_diff\").filter(pl.col(\"text_fqid\") == c).std().alias(f\"{c}_ET_std_{feature_suffix}\") for\n",
    "          c in text_lists],\n",
    "        *[pl.col(\"elapsed_time_diff\").filter(pl.col(\"text_fqid\") == c).mean().alias(f\"{c}_ET_mean_{feature_suffix}\") for\n",
    "          c in text_lists],\n",
    "        *[pl.col(\"elapsed_time_diff\").filter(pl.col(\"text_fqid\") == c).sum().alias(f\"{c}_ET_sum_{feature_suffix}\") for\n",
    "          c in text_lists],\n",
    "        *[pl.col(\"elapsed_time_diff\").filter(pl.col(\"text_fqid\") == c).median().alias(f\"{c}_ET_median_{feature_suffix}\")\n",
    "          for\n",
    "          c in text_lists],\n",
    "        *[pl.col(\"elapsed_time_diff\").filter(pl.col(\"text_fqid\") == c).max().alias(f\"{c}_ET_max_{feature_suffix}\") for\n",
    "          c in text_lists],\n",
    "\n",
    "        *[pl.col(\"room_fqid\").filter(pl.col(\"room_fqid\") == c).count().alias(f\"{c}_room_fqid_counts{feature_suffix}\")\n",
    "          for c in room_lists],\n",
    "        *[pl.col(\"elapsed_time_diff\").filter(pl.col(\"room_fqid\") == c).std().alias(f\"{c}_ET_std_{feature_suffix}\") for\n",
    "          c in room_lists],\n",
    "        *[pl.col(\"elapsed_time_diff\").filter(pl.col(\"room_fqid\") == c).mean().alias(f\"{c}_ET_mean_{feature_suffix}\") for\n",
    "          c in room_lists],\n",
    "        *[pl.col(\"elapsed_time_diff\").filter(pl.col(\"room_fqid\") == c).sum().alias(f\"{c}_ET_sum_{feature_suffix}\") for\n",
    "          c in room_lists],\n",
    "        *[pl.col(\"elapsed_time_diff\").filter(pl.col(\"room_fqid\") == c).median().alias(f\"{c}_ET_median_{feature_suffix}\")\n",
    "          for\n",
    "          c in room_lists],\n",
    "        *[pl.col(\"elapsed_time_diff\").filter(pl.col(\"room_fqid\") == c).max().alias(f\"{c}_ET_max_{feature_suffix}\") for\n",
    "          c in room_lists],\n",
    "\n",
    "        *[pl.col(\"event_name\").filter(pl.col(\"event_name\") == c).count().alias(f\"{c}_event_name_counts{feature_suffix}\")\n",
    "          for c in event_name_feature],\n",
    "        *[pl.col(\"elapsed_time_diff\").filter(pl.col(\"event_name\") == c).std().alias(f\"{c}_ET_std_{feature_suffix}\") for\n",
    "          c in event_name_feature],\n",
    "        *[pl.col(\"elapsed_time_diff\").filter(pl.col(\"event_name\") == c).mean().alias(f\"{c}_ET_mean_{feature_suffix}\")\n",
    "          for\n",
    "          c in event_name_feature],\n",
    "        *[pl.col(\"elapsed_time_diff\").filter(pl.col(\"event_name\") == c).sum().alias(f\"{c}_ET_sum_{feature_suffix}\") for\n",
    "          c in event_name_feature],\n",
    "        *[pl.col(\"elapsed_time_diff\").filter(pl.col(\"event_name\") == c).median().alias(\n",
    "            f\"{c}_ET_median_{feature_suffix}\") for\n",
    "          c in event_name_feature],\n",
    "        *[pl.col(\"elapsed_time_diff\").filter(pl.col(\"event_name\") == c).max().alias(f\"{c}_ET_max_{feature_suffix}\") for\n",
    "          c in event_name_feature],\n",
    "\n",
    "        *[pl.col(\"name\").filter(pl.col(\"name\") == c).count().alias(f\"{c}_name_counts{feature_suffix}\") for c in\n",
    "          name_feature],\n",
    "        *[pl.col(\"elapsed_time_diff\").filter(pl.col(\"name\") == c).std().alias(f\"{c}_ET_std_{feature_suffix}\") for c in\n",
    "          name_feature],\n",
    "        *[pl.col(\"elapsed_time_diff\").filter(pl.col(\"name\") == c).mean().alias(f\"{c}_ET_mean_{feature_suffix}\") for c in\n",
    "          name_feature],\n",
    "        *[pl.col(\"elapsed_time_diff\").filter(pl.col(\"name\") == c).sum().alias(f\"{c}_ET_sum_{feature_suffix}\") for c in\n",
    "          name_feature],\n",
    "        *[pl.col(\"elapsed_time_diff\").filter(pl.col(\"name\") == c).median().alias(f\"{c}_ET_median_{feature_suffix}\") for\n",
    "          c in\n",
    "          name_feature],\n",
    "        *[pl.col(\"elapsed_time_diff\").filter(pl.col(\"name\") == c).max().alias(f\"{c}_ET_max_{feature_suffix}\") for c in\n",
    "          name_feature],\n",
    "\n",
    "        *[pl.col(\"level\").filter(pl.col(\"level\") == c).count().alias(f\"{c}_LEVEL_count{feature_suffix}\") for c in\n",
    "          LEVELS],\n",
    "        *[pl.col(\"elapsed_time_diff\").filter(pl.col(\"level\") == c).std().alias(f\"{c}_ET_std_{feature_suffix}\") for c in\n",
    "          LEVELS],\n",
    "        *[pl.col(\"elapsed_time_diff\").filter(pl.col(\"level\") == c).mean().alias(f\"{c}_ET_mean_{feature_suffix}\") for c\n",
    "          in\n",
    "          LEVELS],\n",
    "        *[pl.col(\"elapsed_time_diff\").filter(pl.col(\"level\") == c).sum().alias(f\"{c}_ET_sum_{feature_suffix}\") for c in\n",
    "          LEVELS],\n",
    "        *[pl.col(\"elapsed_time_diff\").filter(pl.col(\"level\") == c).median().alias(f\"{c}_ET_median_{feature_suffix}\") for\n",
    "          c in\n",
    "          LEVELS],\n",
    "        *[pl.col(\"elapsed_time_diff\").filter(pl.col(\"level\") == c).max().alias(f\"{c}_ET_max_{feature_suffix}\") for c in\n",
    "          LEVELS],\n",
    "\n",
    "        *[pl.col(\"level_group\").filter(pl.col(\"level_group\") == c).count().alias(\n",
    "            f\"{c}_LEVEL_group_count{feature_suffix}\") for c in\n",
    "          level_groups],\n",
    "        *[pl.col(\"elapsed_time_diff\").filter(pl.col(\"level_group\") == c).std().alias(f\"{c}_ET_std_{feature_suffix}\") for\n",
    "          c in\n",
    "          level_groups],\n",
    "        *[pl.col(\"elapsed_time_diff\").filter(pl.col(\"level_group\") == c).mean().alias(f\"{c}_ET_mean_{feature_suffix}\")\n",
    "          for c in\n",
    "          level_groups],\n",
    "        *[pl.col(\"elapsed_time_diff\").filter(pl.col(\"level_group\") == c).sum().alias(f\"{c}_ET_sum_{feature_suffix}\") for\n",
    "          c in\n",
    "          level_groups],\n",
    "        *[pl.col(\"elapsed_time_diff\").filter(pl.col(\"level_group\") == c).median().alias(\n",
    "            f\"{c}_ET_median_{feature_suffix}\") for c in\n",
    "          level_groups],\n",
    "        *[pl.col(\"elapsed_time_diff\").filter(pl.col(\"level_group\") == c).max().alias(f\"{c}_ET_max_{feature_suffix}\") for\n",
    "          c in\n",
    "          level_groups],\n",
    "\n",
    "    ]\n",
    "\n",
    "    df = x.groupby(['session_id'], maintain_order=True).agg(aggs).sort(\"session_id\")\n",
    "\n",
    "    if use_extra:\n",
    "        if grp == '5-12':\n",
    "            aggs = [\n",
    "                pl.col(\"elapsed_time\").filter((pl.col(\"text\") == \"Here's the log book.\")\n",
    "                                              | (pl.col(\"fqid\") == 'logbook.page.bingo'))\n",
    "                    .apply(lambda s: s.max() - s.min()).alias(\"logbook_bingo_duration\"),\n",
    "                pl.col(\"index\").filter(\n",
    "                    (pl.col(\"text\") == \"Here's the log book.\") | (pl.col(\"fqid\") == 'logbook.page.bingo')).apply(\n",
    "                    lambda s: s.max() - s.min()).alias(\"logbook_bingo_indexCount\"),\n",
    "                pl.col(\"elapsed_time\").filter(\n",
    "                    ((pl.col(\"event_name\") == 'navigate_click') & (pl.col(\"fqid\") == 'reader')) | (\n",
    "                            pl.col(\"fqid\") == \"reader.paper2.bingo\")).apply(lambda s: s.max() - s.min()).alias(\n",
    "                    \"reader_bingo_duration\"),\n",
    "                pl.col(\"index\").filter(((pl.col(\"event_name\") == 'navigate_click') & (pl.col(\"fqid\") == 'reader')) | (\n",
    "                        pl.col(\"fqid\") == \"reader.paper2.bingo\")).apply(lambda s: s.max() - s.min()).alias(\n",
    "                    \"reader_bingo_indexCount\"),\n",
    "                pl.col(\"elapsed_time\").filter(\n",
    "                    ((pl.col(\"event_name\") == 'navigate_click') & (pl.col(\"fqid\") == 'journals')) | (\n",
    "                            pl.col(\"fqid\") == \"journals.pic_2.bingo\")).apply(lambda s: s.max() - s.min()).alias(\n",
    "                    \"journals_bingo_duration\"),\n",
    "                pl.col(\"index\").filter(((pl.col(\"event_name\") == 'navigate_click') & (pl.col(\"fqid\") == 'journals')) | (\n",
    "                        pl.col(\"fqid\") == \"journals.pic_2.bingo\")).apply(lambda s: s.max() - s.min()).alias(\n",
    "                    \"journals_bingo_indexCount\"),\n",
    "            ]\n",
    "            tmp = x.groupby([\"session_id\"], maintain_order=True).agg(aggs).sort(\"session_id\")\n",
    "            df = df.join(tmp, on=\"session_id\", how='left')\n",
    "\n",
    "        if grp == '13-22':\n",
    "            aggs = [\n",
    "                pl.col(\"elapsed_time\").filter(\n",
    "                    ((pl.col(\"event_name\") == 'navigate_click') & (pl.col(\"fqid\") == 'reader_flag')) | (\n",
    "                            pl.col(\"fqid\") == \"tunic.library.microfiche.reader_flag.paper2.bingo\")).apply(\n",
    "                    lambda s: s.max() - s.min() if s.len() > 0 else 0).alias(\"reader_flag_duration\"),\n",
    "                pl.col(\"index\").filter(\n",
    "                    ((pl.col(\"event_name\") == 'navigate_click') & (pl.col(\"fqid\") == 'reader_flag')) | (\n",
    "                            pl.col(\"fqid\") == \"tunic.library.microfiche.reader_flag.paper2.bingo\")).apply(\n",
    "                    lambda s: s.max() - s.min() if s.len() > 0 else 0).alias(\"reader_flag_indexCount\"),\n",
    "                pl.col(\"elapsed_time\").filter(\n",
    "                    ((pl.col(\"event_name\") == 'navigate_click') & (pl.col(\"fqid\") == 'journals_flag')) | (\n",
    "                            pl.col(\"fqid\") == \"journals_flag.pic_0.bingo\")).apply(\n",
    "                    lambda s: s.max() - s.min() if s.len() > 0 else 0).alias(\"journalsFlag_bingo_duration\"),\n",
    "                pl.col(\"index\").filter(\n",
    "                    ((pl.col(\"event_name\") == 'navigate_click') & (pl.col(\"fqid\") == 'journals_flag')) | (\n",
    "                            pl.col(\"fqid\") == \"journals_flag.pic_0.bingo\")).apply(\n",
    "                    lambda s: s.max() - s.min() if s.len() > 0 else 0).alias(\"journalsFlag_bingo_indexCount\")\n",
    "            ]\n",
    "            tmp = x.groupby([\"session_id\"], maintain_order=True).agg(aggs).sort(\"session_id\")\n",
    "            df = df.join(tmp, on=\"session_id\", how='left')\n",
    "\n",
    "    return df.to_pandas()\n",
    "\n",
    "\n",
    "\n",
    "\n"
   ]
  },
  {
   "cell_type": "code",
   "execution_count": 3,
   "id": "d0fda1d9",
   "metadata": {},
   "outputs": [],
   "source": [
    "# df = pl.read_csv('../input/predict-student-performance-from-game-play/train.csv').with_columns(columns)\n",
    "\n",
    "\n",
    "# test_dict = dict(zip(sorted(list(df['text'].unique())),[f'text_{xx}' for xx in range(len(df['text'].unique()))]))\n",
    "# test_list = sorted(list(df['text'].unique()))\n"
   ]
  },
  {
   "cell_type": "code",
   "execution_count": 4,
   "id": "324d5d2b",
   "metadata": {},
   "outputs": [],
   "source": [
    "import pickle\n",
    "f_save = open('savedata/meta.pkl', 'rb')\n",
    "[test_list,test_dict,importance_dict] = pickle.load(f_save)\n",
    "f_save.close()"
   ]
  },
  {
   "cell_type": "code",
   "execution_count": 5,
   "id": "a3a385c5",
   "metadata": {
    "execution": {
     "iopub.execute_input": "2023-05-27T14:32:42.131924Z",
     "iopub.status.busy": "2023-05-27T14:32:42.131453Z",
     "iopub.status.idle": "2023-05-27T14:39:19.692234Z",
     "shell.execute_reply": "2023-05-27T14:39:19.691021Z"
    },
    "papermill": {
     "duration": 397.573701,
     "end_time": "2023-05-27T14:39:19.695292",
     "exception": false,
     "start_time": "2023-05-27T14:32:42.121591",
     "status": "completed"
    },
    "tags": []
   },
   "outputs": [
    {
     "name": "stdout",
     "output_type": "stream",
     "text": [
      "We will train with 178 278 294 features\n",
      "We will train with 23562 users info\n"
     ]
    }
   ],
   "source": [
    "df1 = pd.read_pickle('df1.pkl')\n",
    "df2 = pd.read_pickle('df2.pkl')\n",
    "df3 = pd.read_pickle('df3.pkl')\n",
    "\n",
    "\n",
    "# FEATURES1 = [c for c in df1.columns if c not in drop1+['level_group']]\n",
    "# FEATURES2 = [c for c in df2.columns if c not in drop2+['level_group']]\n",
    "# FEATURES3 = [c for c in df3.columns if c not in drop3+['level_group']]\n",
    "\n",
    "\n",
    "FEATURES1 = importance_dict['1']\n",
    "FEATURES2 = importance_dict['6']\n",
    "FEATURES3 = importance_dict['14']\n",
    "\n",
    "\n",
    "print('We will train with', len(FEATURES1), len(FEATURES2), len(FEATURES3), 'features')\n",
    "ALL_USERS = df1.index.unique()\n",
    "print('We will train with', len(ALL_USERS), 'users info')"
   ]
  },
  {
   "cell_type": "code",
   "execution_count": 6,
   "id": "4fc18cf1",
   "metadata": {
    "execution": {
     "iopub.execute_input": "2023-05-27T14:39:19.809190Z",
     "iopub.status.busy": "2023-05-27T14:39:19.808717Z",
     "iopub.status.idle": "2023-05-27T14:40:47.662336Z",
     "shell.execute_reply": "2023-05-27T14:40:47.660552Z"
    },
    "papermill": {
     "duration": 87.874513,
     "end_time": "2023-05-27T14:40:47.665694",
     "exception": false,
     "start_time": "2023-05-27T14:39:19.791181",
     "status": "completed"
    },
    "tags": []
   },
   "outputs": [
    {
     "name": "stderr",
     "output_type": "stream",
     "text": [
      "  0%|                                                                                           | 0/18 [00:00<?, ?it/s]"
     ]
    },
    {
     "name": "stdout",
     "output_type": "stream",
     "text": [
      "#########################\n",
      "question1, with178features\n",
      "#########################\n"
     ]
    },
    {
     "name": "stderr",
     "output_type": "stream",
     "text": [
      "  6%|████▌                                                                              | 1/18 [00:03<00:52,  3.07s/it]"
     ]
    },
    {
     "name": "stdout",
     "output_type": "stream",
     "text": [
      "#########################\n",
      "question2, with235features\n",
      "#########################\n"
     ]
    },
    {
     "name": "stderr",
     "output_type": "stream",
     "text": [
      " 11%|█████████▏                                                                         | 2/18 [00:05<00:44,  2.79s/it]"
     ]
    },
    {
     "name": "stdout",
     "output_type": "stream",
     "text": [
      "#########################\n",
      "question3, with214features\n",
      "#########################\n"
     ]
    },
    {
     "name": "stderr",
     "output_type": "stream",
     "text": [
      " 17%|█████████████▊                                                                     | 3/18 [00:08<00:39,  2.65s/it]"
     ]
    },
    {
     "name": "stdout",
     "output_type": "stream",
     "text": [
      "#########################\n",
      "question4, with248features\n",
      "#########################\n"
     ]
    },
    {
     "name": "stderr",
     "output_type": "stream",
     "text": [
      " 22%|██████████████████▍                                                                | 4/18 [00:11<00:38,  2.77s/it]"
     ]
    },
    {
     "name": "stdout",
     "output_type": "stream",
     "text": [
      "#########################\n",
      "question5, with240features\n",
      "#########################\n"
     ]
    },
    {
     "name": "stderr",
     "output_type": "stream",
     "text": [
      " 28%|███████████████████████                                                            | 5/18 [00:13<00:35,  2.70s/it]"
     ]
    },
    {
     "name": "stdout",
     "output_type": "stream",
     "text": [
      "#########################\n",
      "question6, with278features\n",
      "#########################\n"
     ]
    },
    {
     "name": "stderr",
     "output_type": "stream",
     "text": [
      " 33%|███████████████████████████▋                                                       | 6/18 [00:16<00:32,  2.68s/it]"
     ]
    },
    {
     "name": "stdout",
     "output_type": "stream",
     "text": [
      "#########################\n",
      "question7, with274features\n",
      "#########################\n"
     ]
    },
    {
     "name": "stderr",
     "output_type": "stream",
     "text": [
      " 39%|████████████████████████████████▎                                                  | 7/18 [00:18<00:29,  2.67s/it]"
     ]
    },
    {
     "name": "stdout",
     "output_type": "stream",
     "text": [
      "#########################\n",
      "question8, with269features\n",
      "#########################\n"
     ]
    },
    {
     "name": "stderr",
     "output_type": "stream",
     "text": [
      " 44%|████████████████████████████████████▉                                              | 8/18 [00:21<00:26,  2.65s/it]"
     ]
    },
    {
     "name": "stdout",
     "output_type": "stream",
     "text": [
      "#########################\n",
      "question9, with274features\n",
      "#########################\n"
     ]
    },
    {
     "name": "stderr",
     "output_type": "stream",
     "text": [
      " 50%|█████████████████████████████████████████▌                                         | 9/18 [00:24<00:23,  2.64s/it]"
     ]
    },
    {
     "name": "stdout",
     "output_type": "stream",
     "text": [
      "#########################\n",
      "question10, with234features\n",
      "#########################\n"
     ]
    },
    {
     "name": "stderr",
     "output_type": "stream",
     "text": [
      " 56%|█████████████████████████████████████████████▌                                    | 10/18 [00:26<00:21,  2.63s/it]"
     ]
    },
    {
     "name": "stdout",
     "output_type": "stream",
     "text": [
      "#########################\n",
      "question11, with266features\n",
      "#########################\n"
     ]
    },
    {
     "name": "stderr",
     "output_type": "stream",
     "text": [
      " 61%|██████████████████████████████████████████████████                                | 11/18 [00:29<00:18,  2.62s/it]"
     ]
    },
    {
     "name": "stdout",
     "output_type": "stream",
     "text": [
      "#########################\n",
      "question12, with276features\n",
      "#########################\n"
     ]
    },
    {
     "name": "stderr",
     "output_type": "stream",
     "text": [
      " 67%|██████████████████████████████████████████████████████▋                           | 12/18 [00:32<00:15,  2.63s/it]"
     ]
    },
    {
     "name": "stdout",
     "output_type": "stream",
     "text": [
      "#########################\n",
      "question13, with225features\n",
      "#########################\n"
     ]
    },
    {
     "name": "stderr",
     "output_type": "stream",
     "text": [
      " 72%|███████████████████████████████████████████████████████████▏                      | 13/18 [00:34<00:13,  2.61s/it]"
     ]
    },
    {
     "name": "stdout",
     "output_type": "stream",
     "text": [
      "#########################\n",
      "question14, with294features\n",
      "#########################\n"
     ]
    },
    {
     "name": "stderr",
     "output_type": "stream",
     "text": [
      " 78%|███████████████████████████████████████████████████████████████▊                  | 14/18 [00:37<00:11,  2.77s/it]"
     ]
    },
    {
     "name": "stdout",
     "output_type": "stream",
     "text": [
      "#########################\n",
      "question15, with281features\n",
      "#########################\n"
     ]
    },
    {
     "name": "stderr",
     "output_type": "stream",
     "text": [
      " 83%|████████████████████████████████████████████████████████████████████▎             | 15/18 [00:40<00:08,  2.73s/it]"
     ]
    },
    {
     "name": "stdout",
     "output_type": "stream",
     "text": [
      "#########################\n",
      "question16, with321features\n",
      "#########################\n"
     ]
    },
    {
     "name": "stderr",
     "output_type": "stream",
     "text": [
      " 89%|████████████████████████████████████████████████████████████████████████▉         | 16/18 [00:42<00:05,  2.69s/it]"
     ]
    },
    {
     "name": "stdout",
     "output_type": "stream",
     "text": [
      "#########################\n",
      "question17, with334features\n",
      "#########################\n"
     ]
    },
    {
     "name": "stderr",
     "output_type": "stream",
     "text": [
      " 94%|█████████████████████████████████████████████████████████████████████████████▍    | 17/18 [00:45<00:02,  2.67s/it]"
     ]
    },
    {
     "name": "stdout",
     "output_type": "stream",
     "text": [
      "#########################\n",
      "question18, with399features\n",
      "#########################\n"
     ]
    },
    {
     "name": "stderr",
     "output_type": "stream",
     "text": [
      "100%|██████████████████████████████████████████████████████████████████████████████████| 18/18 [00:48<00:00,  2.69s/it]\n"
     ]
    }
   ],
   "source": [
    "import lightgbm as lgb\n",
    "\n",
    "feature_importance_df = pd.DataFrame()\n",
    "models = {}\n",
    "results = [[[], []] for _ in range(18)]\n",
    "gkf = GroupKFold(n_splits=5)\n",
    "oof_lgb = pd.DataFrame(data=np.zeros((len(ALL_USERS),18)), index=ALL_USERS, columns=[f'meta_lgb_{i}' for i in range(1, 19)])\n",
    "oof_lgb_fold = pd.DataFrame(data=np.zeros((len(ALL_USERS),18)), index=ALL_USERS, columns=[f'meta_lgb_{i}' for i in range(1, 19)])\n",
    "\n",
    "for q in tqdm(range(1, 19)):\n",
    "    if q <= 3:\n",
    "        grp = '0-4'\n",
    "        df = df1\n",
    "        FEATURES = FEATURES1\n",
    "    elif q <= 13:\n",
    "        grp = '5-12'\n",
    "        df = df2\n",
    "        FEATURES = FEATURES2\n",
    "    elif q <= 22:\n",
    "        grp = '13-22'\n",
    "        df = df3\n",
    "        FEATURES = FEATURES3\n",
    "\n",
    "    FEATURES = importance_dict[str(q)]\n",
    "\n",
    "    print(\"#\"*25)\n",
    "    print(f'question{q}, with{len(FEATURES)}features')\n",
    "    print('#'*25)\n",
    "    seed1 = 42\n",
    "    params1 = {\n",
    "            'learning_rate': 0.02,        \n",
    "            'lambda_l1': 2,\n",
    "            'lambda_l2': 7,\n",
    "            'num_leaves': 800,\n",
    "            'min_sum_hessian_in_leaf': 20,\n",
    "            'feature_fraction': 0.8,\n",
    "            'feature_fraction_bynode': 0.8,\n",
    "            'bagging_fraction': 0.9,\n",
    "            'bagging_freq': 42,\n",
    "            'min_data_in_leaf': 700,\n",
    "            'max_depth': 5,\n",
    "#             'categorical_column':[0],\n",
    "            'seed': seed1,\n",
    "            'feature_fraction_seed': seed1,\n",
    "            'bagging_seed': seed1,\n",
    "            'drop_seed': seed1,\n",
    "            'data_random_seed': seed1,\n",
    "            'objective': 'binary',\n",
    "            'boosting': 'gbdt',\n",
    "            'verbosity': -1,\n",
    "            'n_jobs':-1,\n",
    "        }\n",
    "    feature_importance_df = pd.DataFrame()\n",
    "    \n",
    "\n",
    "    for fold, (train_idx, valid_idx) in enumerate(gkf.split(X=df, groups=df.index)):\n",
    "        # TRAIN DATA\n",
    "        train_x = df.iloc[train_idx]\n",
    "        train_users = train_x.index.values\n",
    "        train_y = targets.loc[targets.q == q].set_index('session').loc[train_users]\n",
    "\n",
    "        # VALID DATA\n",
    "        valid_x = df.iloc[valid_idx]\n",
    "        valid_users = valid_x.index.values\n",
    "        valid_y = targets.loc[targets.q == q].set_index('session').loc[valid_users]\n",
    "\n",
    "\n",
    "        lgb_train = lgb.Dataset(train_x[FEATURES].astype('float32'), train_y['correct'].values)\n",
    "        lgb_eval = lgb.Dataset(valid_x[FEATURES].astype('float32'), valid_y['correct'].values)\n",
    "        model = lgb.Booster(model_file=f\"savedata/fold{fold}_q{q}.lgb\")\n",
    "    \n",
    "        y = valid_y\n",
    "        y_hat = model.predict(valid_x[FEATURES])\n",
    "        models[(fold, q)] = model\n",
    "        \n",
    "        fold_importance_df = pd.DataFrame()\n",
    "        fold_importance_df[\"feature\"] = FEATURES\n",
    "        fold_importance_df[\"importance\"] = model.feature_importance()\n",
    "        fold_importance_df[\"fold\"] = fold + 1\n",
    "        feature_importance_df = pd.concat([feature_importance_df, fold_importance_df], axis=0)\n",
    "        oof_lgb.loc[valid_users,f'meta_lgb_{q}'] = y_hat\n",
    "        oof_lgb_fold.loc[valid_users,f'meta_lgb_{q}'] = fold\n",
    "\n",
    "        \n",
    "        results[q - 1][0].append(y)\n",
    "        results[q - 1][1].append(y_hat)\n",
    "    feature_importance_df = feature_importance_df.groupby(['feature'])['importance'].agg(['mean']).sort_values(by='mean', ascending=False)\n",
    "results = [[np.concatenate(_) for _ in _] for _ in results]\n"
   ]
  },
  {
   "cell_type": "code",
   "execution_count": 7,
   "id": "7ffad346",
   "metadata": {
    "execution": {
     "iopub.execute_input": "2023-05-27T14:40:47.708276Z",
     "iopub.status.busy": "2023-05-27T14:40:47.707862Z",
     "iopub.status.idle": "2023-05-27T14:40:51.123481Z",
     "shell.execute_reply": "2023-05-27T14:40:51.122133Z"
    },
    "papermill": {
     "duration": 3.438575,
     "end_time": "2023-05-27T14:40:51.126090",
     "exception": false,
     "start_time": "2023-05-27T14:40:47.687515",
     "status": "completed"
    },
    "tags": []
   },
   "outputs": [
    {
     "data": {
      "text/html": [
       "<div>\n",
       "<style scoped>\n",
       "    .dataframe tbody tr th:only-of-type {\n",
       "        vertical-align: middle;\n",
       "    }\n",
       "\n",
       "    .dataframe tbody tr th {\n",
       "        vertical-align: top;\n",
       "    }\n",
       "\n",
       "    .dataframe thead th {\n",
       "        text-align: right;\n",
       "    }\n",
       "</style>\n",
       "<table border=\"1\" class=\"dataframe\">\n",
       "  <thead>\n",
       "    <tr style=\"text-align: right;\">\n",
       "      <th></th>\n",
       "      <th>session_id</th>\n",
       "      <th>fold</th>\n",
       "    </tr>\n",
       "  </thead>\n",
       "  <tbody>\n",
       "    <tr>\n",
       "      <th>0</th>\n",
       "      <td>20090312431273200</td>\n",
       "      <td>1.0</td>\n",
       "    </tr>\n",
       "    <tr>\n",
       "      <th>1</th>\n",
       "      <td>20090312433251036</td>\n",
       "      <td>0.0</td>\n",
       "    </tr>\n",
       "    <tr>\n",
       "      <th>2</th>\n",
       "      <td>20090312455206810</td>\n",
       "      <td>1.0</td>\n",
       "    </tr>\n",
       "    <tr>\n",
       "      <th>3</th>\n",
       "      <td>20090313091715820</td>\n",
       "      <td>2.0</td>\n",
       "    </tr>\n",
       "    <tr>\n",
       "      <th>4</th>\n",
       "      <td>20090313571836404</td>\n",
       "      <td>3.0</td>\n",
       "    </tr>\n",
       "    <tr>\n",
       "      <th>...</th>\n",
       "      <td>...</td>\n",
       "      <td>...</td>\n",
       "    </tr>\n",
       "    <tr>\n",
       "      <th>23557</th>\n",
       "      <td>22100215342220508</td>\n",
       "      <td>3.0</td>\n",
       "    </tr>\n",
       "    <tr>\n",
       "      <th>23558</th>\n",
       "      <td>22100215460321130</td>\n",
       "      <td>4.0</td>\n",
       "    </tr>\n",
       "    <tr>\n",
       "      <th>23559</th>\n",
       "      <td>22100217104993650</td>\n",
       "      <td>0.0</td>\n",
       "    </tr>\n",
       "    <tr>\n",
       "      <th>23560</th>\n",
       "      <td>22100219442786200</td>\n",
       "      <td>1.0</td>\n",
       "    </tr>\n",
       "    <tr>\n",
       "      <th>23561</th>\n",
       "      <td>22100221145014656</td>\n",
       "      <td>0.0</td>\n",
       "    </tr>\n",
       "  </tbody>\n",
       "</table>\n",
       "<p>23562 rows × 2 columns</p>\n",
       "</div>"
      ],
      "text/plain": [
       "              session_id  fold\n",
       "0      20090312431273200   1.0\n",
       "1      20090312433251036   0.0\n",
       "2      20090312455206810   1.0\n",
       "3      20090313091715820   2.0\n",
       "4      20090313571836404   3.0\n",
       "...                  ...   ...\n",
       "23557  22100215342220508   3.0\n",
       "23558  22100215460321130   4.0\n",
       "23559  22100217104993650   0.0\n",
       "23560  22100219442786200   1.0\n",
       "23561  22100221145014656   0.0\n",
       "\n",
       "[23562 rows x 2 columns]"
      ]
     },
     "execution_count": 7,
     "metadata": {},
     "output_type": "execute_result"
    }
   ],
   "source": [
    "oof_fold = oof_lgb_fold.T.drop_duplicates().T.reset_index()\n",
    "oof_fold.columns = ['session_id','fold']\n",
    "oof_fold"
   ]
  },
  {
   "cell_type": "code",
   "execution_count": 8,
   "id": "822aae89",
   "metadata": {
    "execution": {
     "iopub.execute_input": "2023-05-27T14:40:51.167598Z",
     "iopub.status.busy": "2023-05-27T14:40:51.167172Z",
     "iopub.status.idle": "2023-05-27T14:40:51.196167Z",
     "shell.execute_reply": "2023-05-27T14:40:51.194892Z"
    },
    "papermill": {
     "duration": 0.053453,
     "end_time": "2023-05-27T14:40:51.198727",
     "exception": false,
     "start_time": "2023-05-27T14:40:51.145274",
     "status": "completed"
    },
    "tags": []
   },
   "outputs": [
    {
     "data": {
      "text/html": [
       "<div>\n",
       "<style scoped>\n",
       "    .dataframe tbody tr th:only-of-type {\n",
       "        vertical-align: middle;\n",
       "    }\n",
       "\n",
       "    .dataframe tbody tr th {\n",
       "        vertical-align: top;\n",
       "    }\n",
       "\n",
       "    .dataframe thead th {\n",
       "        text-align: right;\n",
       "    }\n",
       "</style>\n",
       "<table border=\"1\" class=\"dataframe\">\n",
       "  <thead>\n",
       "    <tr style=\"text-align: right;\">\n",
       "      <th></th>\n",
       "      <th>meta_lgb_1</th>\n",
       "      <th>meta_lgb_2</th>\n",
       "      <th>meta_lgb_3</th>\n",
       "      <th>meta_lgb_4</th>\n",
       "      <th>meta_lgb_5</th>\n",
       "      <th>meta_lgb_6</th>\n",
       "      <th>meta_lgb_7</th>\n",
       "      <th>meta_lgb_8</th>\n",
       "      <th>meta_lgb_9</th>\n",
       "      <th>meta_lgb_10</th>\n",
       "      <th>meta_lgb_11</th>\n",
       "      <th>meta_lgb_12</th>\n",
       "      <th>meta_lgb_13</th>\n",
       "      <th>meta_lgb_14</th>\n",
       "      <th>meta_lgb_15</th>\n",
       "      <th>meta_lgb_16</th>\n",
       "      <th>meta_lgb_17</th>\n",
       "      <th>meta_lgb_18</th>\n",
       "    </tr>\n",
       "    <tr>\n",
       "      <th>session_id</th>\n",
       "      <th></th>\n",
       "      <th></th>\n",
       "      <th></th>\n",
       "      <th></th>\n",
       "      <th></th>\n",
       "      <th></th>\n",
       "      <th></th>\n",
       "      <th></th>\n",
       "      <th></th>\n",
       "      <th></th>\n",
       "      <th></th>\n",
       "      <th></th>\n",
       "      <th></th>\n",
       "      <th></th>\n",
       "      <th></th>\n",
       "      <th></th>\n",
       "      <th></th>\n",
       "      <th></th>\n",
       "    </tr>\n",
       "  </thead>\n",
       "  <tbody>\n",
       "    <tr>\n",
       "      <th>20090312431273200</th>\n",
       "      <td>0.957946</td>\n",
       "      <td>0.990432</td>\n",
       "      <td>0.980023</td>\n",
       "      <td>0.938146</td>\n",
       "      <td>0.776990</td>\n",
       "      <td>0.901551</td>\n",
       "      <td>0.873130</td>\n",
       "      <td>0.692334</td>\n",
       "      <td>0.839991</td>\n",
       "      <td>0.705804</td>\n",
       "      <td>0.891526</td>\n",
       "      <td>0.910783</td>\n",
       "      <td>0.312091</td>\n",
       "      <td>0.812345</td>\n",
       "      <td>0.789470</td>\n",
       "      <td>0.804376</td>\n",
       "      <td>0.816903</td>\n",
       "      <td>0.989234</td>\n",
       "    </tr>\n",
       "    <tr>\n",
       "      <th>20090312433251036</th>\n",
       "      <td>0.813040</td>\n",
       "      <td>0.994735</td>\n",
       "      <td>0.980091</td>\n",
       "      <td>0.408947</td>\n",
       "      <td>0.155998</td>\n",
       "      <td>0.370792</td>\n",
       "      <td>0.585067</td>\n",
       "      <td>0.345398</td>\n",
       "      <td>0.483162</td>\n",
       "      <td>0.205884</td>\n",
       "      <td>0.343705</td>\n",
       "      <td>0.693448</td>\n",
       "      <td>0.127848</td>\n",
       "      <td>0.289345</td>\n",
       "      <td>0.099513</td>\n",
       "      <td>0.584317</td>\n",
       "      <td>0.545072</td>\n",
       "      <td>0.649104</td>\n",
       "    </tr>\n",
       "    <tr>\n",
       "      <th>20090312455206810</th>\n",
       "      <td>0.846431</td>\n",
       "      <td>0.985862</td>\n",
       "      <td>0.972192</td>\n",
       "      <td>0.622562</td>\n",
       "      <td>0.631343</td>\n",
       "      <td>0.795095</td>\n",
       "      <td>0.679863</td>\n",
       "      <td>0.652731</td>\n",
       "      <td>0.774413</td>\n",
       "      <td>0.580547</td>\n",
       "      <td>0.765231</td>\n",
       "      <td>0.867424</td>\n",
       "      <td>0.521724</td>\n",
       "      <td>0.600759</td>\n",
       "      <td>0.231824</td>\n",
       "      <td>0.782565</td>\n",
       "      <td>0.799561</td>\n",
       "      <td>0.922038</td>\n",
       "    </tr>\n",
       "    <tr>\n",
       "      <th>20090313091715820</th>\n",
       "      <td>0.415076</td>\n",
       "      <td>0.981688</td>\n",
       "      <td>0.873330</td>\n",
       "      <td>0.905041</td>\n",
       "      <td>0.618709</td>\n",
       "      <td>0.837745</td>\n",
       "      <td>0.865253</td>\n",
       "      <td>0.591828</td>\n",
       "      <td>0.799239</td>\n",
       "      <td>0.521404</td>\n",
       "      <td>0.647693</td>\n",
       "      <td>0.919050</td>\n",
       "      <td>0.120056</td>\n",
       "      <td>0.757243</td>\n",
       "      <td>0.438904</td>\n",
       "      <td>0.699158</td>\n",
       "      <td>0.694306</td>\n",
       "      <td>0.971308</td>\n",
       "    </tr>\n",
       "    <tr>\n",
       "      <th>20090313571836404</th>\n",
       "      <td>0.976750</td>\n",
       "      <td>0.996813</td>\n",
       "      <td>0.993269</td>\n",
       "      <td>0.960642</td>\n",
       "      <td>0.844005</td>\n",
       "      <td>0.952053</td>\n",
       "      <td>0.899294</td>\n",
       "      <td>0.792557</td>\n",
       "      <td>0.921168</td>\n",
       "      <td>0.693825</td>\n",
       "      <td>0.782314</td>\n",
       "      <td>0.925756</td>\n",
       "      <td>0.494280</td>\n",
       "      <td>0.876879</td>\n",
       "      <td>0.641231</td>\n",
       "      <td>0.691431</td>\n",
       "      <td>0.758262</td>\n",
       "      <td>0.991034</td>\n",
       "    </tr>\n",
       "    <tr>\n",
       "      <th>...</th>\n",
       "      <td>...</td>\n",
       "      <td>...</td>\n",
       "      <td>...</td>\n",
       "      <td>...</td>\n",
       "      <td>...</td>\n",
       "      <td>...</td>\n",
       "      <td>...</td>\n",
       "      <td>...</td>\n",
       "      <td>...</td>\n",
       "      <td>...</td>\n",
       "      <td>...</td>\n",
       "      <td>...</td>\n",
       "      <td>...</td>\n",
       "      <td>...</td>\n",
       "      <td>...</td>\n",
       "      <td>...</td>\n",
       "      <td>...</td>\n",
       "      <td>...</td>\n",
       "    </tr>\n",
       "    <tr>\n",
       "      <th>22100215342220508</th>\n",
       "      <td>0.861319</td>\n",
       "      <td>0.991616</td>\n",
       "      <td>0.954236</td>\n",
       "      <td>0.875676</td>\n",
       "      <td>0.514751</td>\n",
       "      <td>0.800571</td>\n",
       "      <td>0.775980</td>\n",
       "      <td>0.620893</td>\n",
       "      <td>0.758131</td>\n",
       "      <td>0.422583</td>\n",
       "      <td>0.637026</td>\n",
       "      <td>0.908316</td>\n",
       "      <td>0.185724</td>\n",
       "      <td>0.803912</td>\n",
       "      <td>0.514925</td>\n",
       "      <td>0.722895</td>\n",
       "      <td>0.560570</td>\n",
       "      <td>0.959412</td>\n",
       "    </tr>\n",
       "    <tr>\n",
       "      <th>22100215460321130</th>\n",
       "      <td>0.472537</td>\n",
       "      <td>0.989067</td>\n",
       "      <td>0.875057</td>\n",
       "      <td>0.894618</td>\n",
       "      <td>0.459467</td>\n",
       "      <td>0.789431</td>\n",
       "      <td>0.617374</td>\n",
       "      <td>0.527661</td>\n",
       "      <td>0.697715</td>\n",
       "      <td>0.333626</td>\n",
       "      <td>0.739289</td>\n",
       "      <td>0.914403</td>\n",
       "      <td>0.164963</td>\n",
       "      <td>0.876397</td>\n",
       "      <td>0.652572</td>\n",
       "      <td>0.776803</td>\n",
       "      <td>0.811215</td>\n",
       "      <td>0.983526</td>\n",
       "    </tr>\n",
       "    <tr>\n",
       "      <th>22100217104993650</th>\n",
       "      <td>0.839028</td>\n",
       "      <td>0.992129</td>\n",
       "      <td>0.945165</td>\n",
       "      <td>0.915818</td>\n",
       "      <td>0.720601</td>\n",
       "      <td>0.915766</td>\n",
       "      <td>0.928033</td>\n",
       "      <td>0.646242</td>\n",
       "      <td>0.900442</td>\n",
       "      <td>0.594344</td>\n",
       "      <td>0.760140</td>\n",
       "      <td>0.928989</td>\n",
       "      <td>0.299200</td>\n",
       "      <td>0.808866</td>\n",
       "      <td>0.809580</td>\n",
       "      <td>0.768847</td>\n",
       "      <td>0.673447</td>\n",
       "      <td>0.989567</td>\n",
       "    </tr>\n",
       "    <tr>\n",
       "      <th>22100219442786200</th>\n",
       "      <td>0.540876</td>\n",
       "      <td>0.982390</td>\n",
       "      <td>0.960935</td>\n",
       "      <td>0.822266</td>\n",
       "      <td>0.314139</td>\n",
       "      <td>0.714737</td>\n",
       "      <td>0.457338</td>\n",
       "      <td>0.677949</td>\n",
       "      <td>0.749246</td>\n",
       "      <td>0.475536</td>\n",
       "      <td>0.667469</td>\n",
       "      <td>0.833614</td>\n",
       "      <td>0.288676</td>\n",
       "      <td>0.838558</td>\n",
       "      <td>0.387264</td>\n",
       "      <td>0.834289</td>\n",
       "      <td>0.779178</td>\n",
       "      <td>0.980029</td>\n",
       "    </tr>\n",
       "    <tr>\n",
       "      <th>22100221145014656</th>\n",
       "      <td>0.429546</td>\n",
       "      <td>0.954904</td>\n",
       "      <td>0.860268</td>\n",
       "      <td>0.672553</td>\n",
       "      <td>0.394562</td>\n",
       "      <td>0.523740</td>\n",
       "      <td>0.611434</td>\n",
       "      <td>0.520356</td>\n",
       "      <td>0.567483</td>\n",
       "      <td>0.327705</td>\n",
       "      <td>0.461870</td>\n",
       "      <td>0.752170</td>\n",
       "      <td>0.122333</td>\n",
       "      <td>0.427713</td>\n",
       "      <td>0.180871</td>\n",
       "      <td>0.577628</td>\n",
       "      <td>0.504196</td>\n",
       "      <td>0.901213</td>\n",
       "    </tr>\n",
       "  </tbody>\n",
       "</table>\n",
       "<p>23562 rows × 18 columns</p>\n",
       "</div>"
      ],
      "text/plain": [
       "                   meta_lgb_1  meta_lgb_2  meta_lgb_3  meta_lgb_4  meta_lgb_5  \\\n",
       "session_id                                                                      \n",
       "20090312431273200    0.957946    0.990432    0.980023    0.938146    0.776990   \n",
       "20090312433251036    0.813040    0.994735    0.980091    0.408947    0.155998   \n",
       "20090312455206810    0.846431    0.985862    0.972192    0.622562    0.631343   \n",
       "20090313091715820    0.415076    0.981688    0.873330    0.905041    0.618709   \n",
       "20090313571836404    0.976750    0.996813    0.993269    0.960642    0.844005   \n",
       "...                       ...         ...         ...         ...         ...   \n",
       "22100215342220508    0.861319    0.991616    0.954236    0.875676    0.514751   \n",
       "22100215460321130    0.472537    0.989067    0.875057    0.894618    0.459467   \n",
       "22100217104993650    0.839028    0.992129    0.945165    0.915818    0.720601   \n",
       "22100219442786200    0.540876    0.982390    0.960935    0.822266    0.314139   \n",
       "22100221145014656    0.429546    0.954904    0.860268    0.672553    0.394562   \n",
       "\n",
       "                   meta_lgb_6  meta_lgb_7  meta_lgb_8  meta_lgb_9  \\\n",
       "session_id                                                          \n",
       "20090312431273200    0.901551    0.873130    0.692334    0.839991   \n",
       "20090312433251036    0.370792    0.585067    0.345398    0.483162   \n",
       "20090312455206810    0.795095    0.679863    0.652731    0.774413   \n",
       "20090313091715820    0.837745    0.865253    0.591828    0.799239   \n",
       "20090313571836404    0.952053    0.899294    0.792557    0.921168   \n",
       "...                       ...         ...         ...         ...   \n",
       "22100215342220508    0.800571    0.775980    0.620893    0.758131   \n",
       "22100215460321130    0.789431    0.617374    0.527661    0.697715   \n",
       "22100217104993650    0.915766    0.928033    0.646242    0.900442   \n",
       "22100219442786200    0.714737    0.457338    0.677949    0.749246   \n",
       "22100221145014656    0.523740    0.611434    0.520356    0.567483   \n",
       "\n",
       "                   meta_lgb_10  meta_lgb_11  meta_lgb_12  meta_lgb_13  \\\n",
       "session_id                                                              \n",
       "20090312431273200     0.705804     0.891526     0.910783     0.312091   \n",
       "20090312433251036     0.205884     0.343705     0.693448     0.127848   \n",
       "20090312455206810     0.580547     0.765231     0.867424     0.521724   \n",
       "20090313091715820     0.521404     0.647693     0.919050     0.120056   \n",
       "20090313571836404     0.693825     0.782314     0.925756     0.494280   \n",
       "...                        ...          ...          ...          ...   \n",
       "22100215342220508     0.422583     0.637026     0.908316     0.185724   \n",
       "22100215460321130     0.333626     0.739289     0.914403     0.164963   \n",
       "22100217104993650     0.594344     0.760140     0.928989     0.299200   \n",
       "22100219442786200     0.475536     0.667469     0.833614     0.288676   \n",
       "22100221145014656     0.327705     0.461870     0.752170     0.122333   \n",
       "\n",
       "                   meta_lgb_14  meta_lgb_15  meta_lgb_16  meta_lgb_17  \\\n",
       "session_id                                                              \n",
       "20090312431273200     0.812345     0.789470     0.804376     0.816903   \n",
       "20090312433251036     0.289345     0.099513     0.584317     0.545072   \n",
       "20090312455206810     0.600759     0.231824     0.782565     0.799561   \n",
       "20090313091715820     0.757243     0.438904     0.699158     0.694306   \n",
       "20090313571836404     0.876879     0.641231     0.691431     0.758262   \n",
       "...                        ...          ...          ...          ...   \n",
       "22100215342220508     0.803912     0.514925     0.722895     0.560570   \n",
       "22100215460321130     0.876397     0.652572     0.776803     0.811215   \n",
       "22100217104993650     0.808866     0.809580     0.768847     0.673447   \n",
       "22100219442786200     0.838558     0.387264     0.834289     0.779178   \n",
       "22100221145014656     0.427713     0.180871     0.577628     0.504196   \n",
       "\n",
       "                   meta_lgb_18  \n",
       "session_id                      \n",
       "20090312431273200     0.989234  \n",
       "20090312433251036     0.649104  \n",
       "20090312455206810     0.922038  \n",
       "20090313091715820     0.971308  \n",
       "20090313571836404     0.991034  \n",
       "...                        ...  \n",
       "22100215342220508     0.959412  \n",
       "22100215460321130     0.983526  \n",
       "22100217104993650     0.989567  \n",
       "22100219442786200     0.980029  \n",
       "22100221145014656     0.901213  \n",
       "\n",
       "[23562 rows x 18 columns]"
      ]
     },
     "execution_count": 8,
     "metadata": {},
     "output_type": "execute_result"
    }
   ],
   "source": [
    "oof_lgb"
   ]
  },
  {
   "cell_type": "code",
   "execution_count": 9,
   "id": "515a5c41",
   "metadata": {
    "execution": {
     "iopub.execute_input": "2023-05-27T14:40:51.504932Z",
     "iopub.status.busy": "2023-05-27T14:40:51.504089Z",
     "iopub.status.idle": "2023-05-27T14:40:51.517588Z",
     "shell.execute_reply": "2023-05-27T14:40:51.516633Z"
    },
    "papermill": {
     "duration": 0.037357,
     "end_time": "2023-05-27T14:40:51.520225",
     "exception": false,
     "start_time": "2023-05-27T14:40:51.482868",
     "status": "completed"
    },
    "tags": []
   },
   "outputs": [],
   "source": [
    "oof_cat = oof_lgb.copy()"
   ]
  },
  {
   "cell_type": "code",
   "execution_count": 10,
   "id": "068944d3",
   "metadata": {
    "execution": {
     "iopub.execute_input": "2023-05-27T14:40:51.563059Z",
     "iopub.status.busy": "2023-05-27T14:40:51.562265Z",
     "iopub.status.idle": "2023-05-27T14:40:57.008235Z",
     "shell.execute_reply": "2023-05-27T14:40:57.006594Z"
    },
    "papermill": {
     "duration": 5.470788,
     "end_time": "2023-05-27T14:40:57.010916",
     "exception": false,
     "start_time": "2023-05-27T14:40:51.540128",
     "status": "completed"
    },
    "tags": []
   },
   "outputs": [
    {
     "data": {
      "image/png": "[encoded data removed]",
      "text/plain": [
       "<Figure size 2000x500 with 1 Axes>"
      ]
     },
     "metadata": {},
     "output_type": "display_data"
    },
    {
     "name": "stdout",
     "output_type": "stream",
     "text": [
      "When using optimal threshold = 0.62...\n",
      "Q0: F1 = 0.6766022527155394\n",
      "Q1: F1 = 0.5042913292090969\n",
      "Q2: F1 = 0.5054215883628179\n",
      "Q3: F1 = 0.6801208074577139\n",
      "Q4: F1 = 0.6382409642749631\n",
      "Q5: F1 = 0.6433035031648764\n",
      "Q6: F1 = 0.6296980997748729\n",
      "Q7: F1 = 0.5718817183175567\n",
      "Q8: F1 = 0.631917413965816\n",
      "Q9: F1 = 0.5857993225513134\n",
      "Q10: F1 = 0.6110545230367364\n",
      "Q11: F1 = 0.5139104456102073\n",
      "Q12: F1 = 0.4704540807822728\n",
      "Q13: F1 = 0.6407377186575529\n",
      "Q14: F1 = 0.6087771613049993\n",
      "Q15: F1 = 0.5014427235333341\n",
      "Q16: F1 = 0.5530969013092722\n",
      "Q17: F1 = 0.4899126130287569\n",
      "==> Overall F1 = 0.6974988090569093\n",
      "s\n"
     ]
    }
   ],
   "source": [
    "\n",
    "true = pd.DataFrame(np.stack([_[0] for _ in results])[:,:,1].T).astype(float)\n",
    "oof = pd.DataFrame(np.stack([_[1] for _ in results]).T)\n",
    "\n",
    "scores = []; thresholds = []\n",
    "best_socre = 0; best_threshold = 0\n",
    "\n",
    "for threshold in np.arange(0.5, 0.7, 0.01):\n",
    "    preds = (oof.values.reshape(-1) > threshold).astype('int')\n",
    "    m = f1_score(true.values.reshape(-1), preds, average='macro')\n",
    "    scores.append(m)\n",
    "    thresholds.append(threshold)\n",
    "    if m > best_socre:\n",
    "        best_socre = m\n",
    "        best_threshold = threshold\n",
    "\n",
    "plt.figure(figsize=(20, 5))\n",
    "plt.plot(thresholds, scores, '-o', color='blue')\n",
    "plt.scatter([best_threshold], [best_socre], color='blue')\n",
    "plt.xlabel(\"Threshold\", size=14)\n",
    "plt.ylabel(\"Validation F1 Score\",size=14)\n",
    "plt.title(f'Threshold vs. F1_Score with Best F1_Score={best_socre:.3f} at Best Threshold = {best_threshold:.3}', size=18)\n",
    "plt.show()\n",
    "\n",
    "print(f'When using optimal threshold = {best_threshold:.2f}...')\n",
    "for k in range(18):\n",
    "    m = f1_score(true[k].values, (oof[k].values > best_threshold).astype('int'), average = 'macro')\n",
    "    print(f'Q{k}: F1 =',m)\n",
    "m = f1_score(true.values.reshape(-1), (oof.values > best_threshold).reshape(-1).astype('int'), average = 'macro')\n",
    "print('==> Overall F1 =', m)\n",
    "print('s')"
   ]
  },
  {
   "cell_type": "code",
   "execution_count": null,
   "id": "1a148b03",
   "metadata": {
    "papermill": {
     "duration": 0.020304,
     "end_time": "2023-05-27T14:40:57.052231",
     "exception": false,
     "start_time": "2023-05-27T14:40:57.031927",
     "status": "completed"
    },
    "tags": []
   },
   "outputs": [],
   "source": []
  },
  {
   "cell_type": "code",
   "execution_count": 11,
   "id": "c68286b1",
   "metadata": {
    "execution": {
     "iopub.execute_input": "2023-05-27T14:40:57.096018Z",
     "iopub.status.busy": "2023-05-27T14:40:57.095571Z",
     "iopub.status.idle": "2023-05-27T14:41:53.440312Z",
     "shell.execute_reply": "2023-05-27T14:41:53.438890Z"
    },
    "papermill": {
     "duration": 56.370288,
     "end_time": "2023-05-27T14:41:53.443248",
     "exception": false,
     "start_time": "2023-05-27T14:40:57.072960",
     "status": "completed"
    },
    "tags": []
   },
   "outputs": [
    {
     "name": "stderr",
     "output_type": "stream",
     "text": [
      "  0%|                                                                                           | 0/18 [00:00<?, ?it/s]"
     ]
    },
    {
     "name": "stdout",
     "output_type": "stream",
     "text": [
      "#########################\n",
      "question1, with3features\n",
      "#########################\n"
     ]
    },
    {
     "name": "stderr",
     "output_type": "stream",
     "text": [
      "  6%|████▌                                                                              | 1/18 [00:00<00:09,  1.88it/s]"
     ]
    },
    {
     "name": "stdout",
     "output_type": "stream",
     "text": [
      "#########################\n",
      "question2, with3features\n",
      "#########################\n"
     ]
    },
    {
     "name": "stderr",
     "output_type": "stream",
     "text": [
      " 11%|█████████▏                                                                         | 2/18 [00:00<00:05,  2.68it/s]"
     ]
    },
    {
     "name": "stdout",
     "output_type": "stream",
     "text": [
      "#########################\n",
      "question3, with3features\n",
      "#########################\n"
     ]
    },
    {
     "name": "stderr",
     "output_type": "stream",
     "text": [
      " 17%|█████████████▊                                                                     | 3/18 [00:01<00:05,  2.69it/s]"
     ]
    },
    {
     "name": "stdout",
     "output_type": "stream",
     "text": [
      "#########################\n",
      "question4, with13features\n",
      "#########################\n"
     ]
    },
    {
     "name": "stderr",
     "output_type": "stream",
     "text": [
      " 22%|██████████████████▍                                                                | 4/18 [00:01<00:07,  1.87it/s]"
     ]
    },
    {
     "name": "stdout",
     "output_type": "stream",
     "text": [
      "#########################\n",
      "question5, with13features\n",
      "#########################\n"
     ]
    },
    {
     "name": "stderr",
     "output_type": "stream",
     "text": [
      " 28%|███████████████████████                                                            | 5/18 [00:02<00:08,  1.48it/s]"
     ]
    },
    {
     "name": "stdout",
     "output_type": "stream",
     "text": [
      "#########################\n",
      "question6, with13features\n",
      "#########################\n"
     ]
    },
    {
     "name": "stderr",
     "output_type": "stream",
     "text": [
      " 33%|███████████████████████████▋                                                       | 6/18 [00:03<00:09,  1.32it/s]"
     ]
    },
    {
     "name": "stdout",
     "output_type": "stream",
     "text": [
      "#########################\n",
      "question7, with13features\n",
      "#########################\n"
     ]
    },
    {
     "name": "stderr",
     "output_type": "stream",
     "text": [
      " 39%|████████████████████████████████▎                                                  | 7/18 [00:04<00:08,  1.27it/s]"
     ]
    },
    {
     "name": "stdout",
     "output_type": "stream",
     "text": [
      "#########################\n",
      "question8, with13features\n",
      "#########################\n"
     ]
    },
    {
     "name": "stderr",
     "output_type": "stream",
     "text": [
      " 44%|████████████████████████████████████▉                                              | 8/18 [00:05<00:08,  1.23it/s]"
     ]
    },
    {
     "name": "stdout",
     "output_type": "stream",
     "text": [
      "#########################\n",
      "question9, with13features\n",
      "#########################\n"
     ]
    },
    {
     "name": "stderr",
     "output_type": "stream",
     "text": [
      " 50%|█████████████████████████████████████████▌                                         | 9/18 [00:06<00:07,  1.21it/s]"
     ]
    },
    {
     "name": "stdout",
     "output_type": "stream",
     "text": [
      "#########################\n",
      "question10, with13features\n",
      "#########################\n"
     ]
    },
    {
     "name": "stderr",
     "output_type": "stream",
     "text": [
      " 56%|█████████████████████████████████████████████▌                                    | 10/18 [00:07<00:06,  1.18it/s]"
     ]
    },
    {
     "name": "stdout",
     "output_type": "stream",
     "text": [
      "#########################\n",
      "question11, with13features\n",
      "#########################\n"
     ]
    },
    {
     "name": "stderr",
     "output_type": "stream",
     "text": [
      " 61%|██████████████████████████████████████████████████                                | 11/18 [00:08<00:06,  1.13it/s]"
     ]
    },
    {
     "name": "stdout",
     "output_type": "stream",
     "text": [
      "#########################\n",
      "question12, with13features\n",
      "#########################\n"
     ]
    },
    {
     "name": "stderr",
     "output_type": "stream",
     "text": [
      " 67%|██████████████████████████████████████████████████████▋                           | 12/18 [00:09<00:05,  1.15it/s]"
     ]
    },
    {
     "name": "stdout",
     "output_type": "stream",
     "text": [
      "#########################\n",
      "question13, with13features\n",
      "#########################\n"
     ]
    },
    {
     "name": "stderr",
     "output_type": "stream",
     "text": [
      " 72%|███████████████████████████████████████████████████████████▏                      | 13/18 [00:10<00:04,  1.12it/s]"
     ]
    },
    {
     "name": "stdout",
     "output_type": "stream",
     "text": [
      "#########################\n",
      "question14, with18features\n",
      "#########################\n"
     ]
    },
    {
     "name": "stderr",
     "output_type": "stream",
     "text": [
      " 78%|███████████████████████████████████████████████████████████████▊                  | 14/18 [00:10<00:03,  1.09it/s]"
     ]
    },
    {
     "name": "stdout",
     "output_type": "stream",
     "text": [
      "#########################\n",
      "question15, with18features\n",
      "#########################\n"
     ]
    },
    {
     "name": "stderr",
     "output_type": "stream",
     "text": [
      " 83%|████████████████████████████████████████████████████████████████████▎             | 15/18 [00:11<00:02,  1.08it/s]"
     ]
    },
    {
     "name": "stdout",
     "output_type": "stream",
     "text": [
      "#########################\n",
      "question16, with18features\n",
      "#########################\n"
     ]
    },
    {
     "name": "stderr",
     "output_type": "stream",
     "text": [
      " 89%|████████████████████████████████████████████████████████████████████████▉         | 16/18 [00:12<00:01,  1.06it/s]"
     ]
    },
    {
     "name": "stdout",
     "output_type": "stream",
     "text": [
      "#########################\n",
      "question17, with18features\n",
      "#########################\n"
     ]
    },
    {
     "name": "stderr",
     "output_type": "stream",
     "text": [
      " 94%|█████████████████████████████████████████████████████████████████████████████▍    | 17/18 [00:14<00:00,  1.01it/s]"
     ]
    },
    {
     "name": "stdout",
     "output_type": "stream",
     "text": [
      "#########################\n",
      "question18, with18features\n",
      "#########################\n"
     ]
    },
    {
     "name": "stderr",
     "output_type": "stream",
     "text": [
      "100%|██████████████████████████████████████████████████████████████████████████████████| 18/18 [00:14<00:00,  1.21it/s]\n"
     ]
    }
   ],
   "source": [
    "from sklearn.linear_model import LogisticRegression\n",
    "from sklearn import svm\n",
    "from sklearn.neural_network import MLPClassifier\n",
    "\n",
    "feature_importance_df_stack = pd.DataFrame()\n",
    "models_stack = {}\n",
    "results_stack = [[[], []] for _ in range(18)]\n",
    "oof_cat_stack = pd.DataFrame(data=np.zeros((len(ALL_USERS),18)), index=ALL_USERS, columns=[f'meta_{i}' for i in range(1, 19)])\n",
    "\n",
    "for q in tqdm(range(1, 19)):\n",
    "    if q <= 3:\n",
    "        grp = '0-4'\n",
    "        df = df1\n",
    "        FEATURES = [f'meta_lgb_{xx}' for xx in [1,2,3]]\n",
    "\n",
    "    elif q <= 13:\n",
    "        grp = '5-12'\n",
    "        df = df2\n",
    "        FEATURES = [f'meta_lgb_{xx}' for xx in [1,2,3,4,5,6,7,8,9,10,11,12,13]]\n",
    "\n",
    "    elif q <= 22:\n",
    "        grp = '13-22'\n",
    "        df = df3\n",
    "        FEATURES = [f'meta_lgb_{xx}' for xx in [1,2,3,4,5,6,7,8,9,10,11,12,13,14,15,16,17,18]]\n",
    "\n",
    "    print(\"#\"*25)\n",
    "    print(f'question{q}, with{len(FEATURES)}features')\n",
    "    print('#'*25)\n",
    "    seed1 = 42\n",
    "    params1 = {\n",
    "            'learning_rate': 0.02,        \n",
    "            'lambda_l1': 2,\n",
    "            'lambda_l2': 7,\n",
    "            'num_leaves': 800,\n",
    "            'min_sum_hessian_in_leaf': 20,\n",
    "            'feature_fraction': 0.8,\n",
    "            'feature_fraction_bynode': 0.8,\n",
    "            'bagging_fraction': 0.9,\n",
    "            'bagging_freq': 42,\n",
    "            'min_data_in_leaf': 700,\n",
    "            'max_depth': 5,\n",
    "            'seed': seed1,\n",
    "            'feature_fraction_seed': seed1,\n",
    "            'bagging_seed': seed1,\n",
    "            'drop_seed': seed1,\n",
    "            'data_random_seed': seed1,\n",
    "            'objective': 'binary',\n",
    "            'boosting': 'gbdt',\n",
    "            'verbosity': -1,\n",
    "            'n_jobs':-1,\n",
    "        }\n",
    "    \n",
    "    feature_importance_df = pd.DataFrame()\n",
    "    \n",
    "\n",
    "    for fold, (train_idx, valid_idx) in enumerate(gkf.split(X=df, groups=df.index)):\n",
    "        # TRAIN DATA\n",
    "        train_x = oof_cat.iloc[train_idx]\n",
    "        train_users = train_x.index.values\n",
    "        train_y = targets.loc[targets.q == q].set_index('session').loc[train_users]\n",
    "\n",
    "        # VALID DATA\n",
    "        valid_x = oof_cat.iloc[valid_idx]\n",
    "        valid_users = valid_x.index.values\n",
    "        valid_y = targets.loc[targets.q == q].set_index('session').loc[valid_users]\n",
    "\n",
    "\n",
    "\n",
    "        lgb_train = lgb.Dataset(train_x[FEATURES].astype('float32'), train_y['correct'].values)\n",
    "        lgb_eval = lgb.Dataset(valid_x[FEATURES].astype('float32'), valid_y['correct'].values)\n",
    "\n",
    "\n",
    "        model = LogisticRegression(random_state=0).fit(train_x[FEATURES].astype('float32'), train_y['correct'].values)\n",
    "\n",
    "        y = valid_y\n",
    "        y_hat = model.predict_proba(valid_x[FEATURES])[:,1]\n",
    "        models_stack[(fold, q)] = model\n",
    "\n",
    "        oof_cat_stack.loc[valid_users,f'meta_{q}'] = y_hat\n",
    "\n",
    "        \n",
    "        results_stack[q - 1][0].append(y)\n",
    "        results_stack[q - 1][1].append(y_hat)\n",
    "results_stack = [[np.concatenate(_) for _ in _] for _ in results_stack]\n",
    "\n",
    "\n",
    "import pickle\n",
    "for (fold,q), model in models_stack.items():\n",
    "    pickle.dump(model, open(f'savedata/fold{fold}_q{q}_stack.pkl', \"wb\"))\n"
   ]
  },
  {
   "cell_type": "code",
   "execution_count": 12,
   "id": "9d4024ab",
   "metadata": {
    "execution": {
     "iopub.execute_input": "2023-05-27T14:41:53.548070Z",
     "iopub.status.busy": "2023-05-27T14:41:53.547625Z",
     "iopub.status.idle": "2023-05-27T14:42:12.989144Z",
     "shell.execute_reply": "2023-05-27T14:42:12.987011Z"
    },
    "papermill": {
     "duration": 19.469535,
     "end_time": "2023-05-27T14:42:12.992037",
     "exception": false,
     "start_time": "2023-05-27T14:41:53.522502",
     "status": "completed"
    },
    "tags": []
   },
   "outputs": [
    {
     "data": {
      "image/png": "[encoded data removed]",
      "text/plain": [
       "<Figure size 2000x500 with 1 Axes>"
      ]
     },
     "metadata": {},
     "output_type": "display_data"
    },
    {
     "name": "stdout",
     "output_type": "stream",
     "text": [
      "When using optimal threshold = 0.62...\n",
      "Q0: F1 = 0.6737803833818216\n",
      "Q1: F1 = 0.5154036827195467\n",
      "Q2: F1 = 0.5185364908038981\n",
      "Q3: F1 = 0.6796720550507007\n",
      "Q4: F1 = 0.6495331766157358\n",
      "Q5: F1 = 0.6507904491962276\n",
      "Q6: F1 = 0.6314732167403754\n",
      "Q7: F1 = 0.5763971105709833\n",
      "Q8: F1 = 0.6322251129240821\n",
      "Q9: F1 = 0.5974001422607369\n",
      "Q10: F1 = 0.6163745004665071\n",
      "Q11: F1 = 0.5195736797935515\n",
      "Q12: F1 = 0.4860826534880322\n",
      "Q13: F1 = 0.643268058460148\n",
      "Q14: F1 = 0.6238374395135053\n",
      "Q15: F1 = 0.50109282015434\n",
      "Q16: F1 = 0.5544533155177993\n",
      "Q17: F1 = 0.4906211416889717\n",
      "==> Overall F1 = 0.6990453108490142\n",
      "s\n"
     ]
    },
    {
     "data": {
      "image/png": "[encoded data removed]",
      "text/plain": [
       "<Figure size 2000x500 with 1 Axes>"
      ]
     },
     "metadata": {},
     "output_type": "display_data"
    },
    {
     "name": "stdout",
     "output_type": "stream",
     "text": [
      "When using optimal threshold = 0.62...\n",
      "Q0: F1 = 0.6765735505941706\n",
      "Q1: F1 = 0.5042913292090969\n",
      "Q2: F1 = 0.5043518230101176\n",
      "Q3: F1 = 0.6802652858569534\n",
      "Q4: F1 = 0.6413117917045439\n",
      "Q5: F1 = 0.6428077999923206\n",
      "Q6: F1 = 0.6278507757262041\n",
      "Q7: F1 = 0.5748437838809822\n",
      "Q8: F1 = 0.6300947170668502\n",
      "Q9: F1 = 0.5907168024368963\n",
      "Q10: F1 = 0.6109777276175283\n",
      "Q11: F1 = 0.5107083812746247\n",
      "Q12: F1 = 0.4741332142449218\n",
      "Q13: F1 = 0.6400823025946947\n",
      "Q14: F1 = 0.6126440572464208\n",
      "Q15: F1 = 0.49643159083177774\n",
      "Q16: F1 = 0.5479555540546552\n",
      "Q17: F1 = 0.48904804118769946\n",
      "==> Overall F1 = 0.6975201806449424\n",
      "s\n"
     ]
    }
   ],
   "source": [
    "\n",
    "true = pd.DataFrame(np.stack([_[0] for _ in results_stack])[:,:,1].T).astype(float)\n",
    "oof = pd.DataFrame(np.stack([_[1] for _ in results_stack]).T)\n",
    "\n",
    "scores = []; thresholds = []\n",
    "best_socre = 0; best_threshold = 0\n",
    "\n",
    "for threshold in np.arange(0.5, 0.7, 0.005):\n",
    "    preds = (oof.values.reshape(-1) > threshold).astype('int')\n",
    "    m = f1_score(true.values.reshape(-1), preds, average='macro')\n",
    "    scores.append(m)\n",
    "    thresholds.append(threshold)\n",
    "    if m > best_socre:\n",
    "        best_socre = m\n",
    "        best_threshold = threshold\n",
    "\n",
    "plt.figure(figsize=(20, 5))\n",
    "plt.plot(thresholds, scores, '-o', color='red')\n",
    "plt.scatter([best_threshold], [best_socre], color='red')\n",
    "plt.xlabel(\"Threshold\", size=14)\n",
    "plt.ylabel(\"Validation F1 Score\",size=14)\n",
    "plt.title(f'Threshold vs. F1_Score with Best F1_Score={best_socre:.3f} at Best Threshold = {best_threshold:.3}', size=18)\n",
    "plt.show()\n",
    "\n",
    "print(f'When using optimal threshold = {best_threshold:.2f}...')\n",
    "for k in range(18):\n",
    "    m = f1_score(true[k].values, (oof[k].values > best_threshold).astype('int'), average = 'macro')\n",
    "    print(f'Q{k}: F1 =',m)\n",
    "m = f1_score(true.values.reshape(-1), (oof.values > best_threshold).reshape(-1).astype('int'), average = 'macro')\n",
    "print('==> Overall F1 =', m)\n",
    "print('s')\n",
    "\n",
    "\n",
    "true = pd.DataFrame(np.stack([_[0] for _ in results])[:,:,1].T).astype(float)\n",
    "oof = pd.DataFrame(np.stack([_[1] for _ in results]).T)\n",
    "\n",
    "scores = []; thresholds = []\n",
    "best_socre = 0; best_threshold = 0\n",
    "\n",
    "for threshold in np.arange(0.5, 0.7, 0.005):\n",
    "    preds = (oof.values.reshape(-1) > threshold).astype('int')\n",
    "    m = f1_score(true.values.reshape(-1), preds, average='macro')\n",
    "    scores.append(m)\n",
    "    thresholds.append(threshold)\n",
    "    if m > best_socre:\n",
    "        best_socre = m\n",
    "        best_threshold = threshold\n",
    "\n",
    "plt.figure(figsize=(20, 5))\n",
    "plt.plot(thresholds, scores, '-o', color='blue')\n",
    "plt.scatter([best_threshold], [best_socre], color='blue')\n",
    "plt.xlabel(\"Threshold\", size=14)\n",
    "plt.ylabel(\"Validation F1 Score\",size=14)\n",
    "plt.title(f'Threshold vs. F1_Score with Best F1_Score={best_socre:.3f} at Best Threshold = {best_threshold:.3}', size=18)\n",
    "plt.show()\n",
    "\n",
    "print(f'When using optimal threshold = {best_threshold:.2f}...')\n",
    "for k in range(18):\n",
    "    m = f1_score(true[k].values, (oof[k].values > best_threshold).astype('int'), average = 'macro')\n",
    "    print(f'Q{k}: F1 =',m)\n",
    "m = f1_score(true.values.reshape(-1), (oof.values > best_threshold).reshape(-1).astype('int'), average = 'macro')\n",
    "print('==> Overall F1 =', m)\n",
    "print('s')"
   ]
  },
  {
   "cell_type": "code",
   "execution_count": 13,
   "id": "30fa6332",
   "metadata": {},
   "outputs": [],
   "source": [
    "from sklearn.linear_model import LogisticRegression\n",
    "import pickle \n",
    "models_stack = [[pickle.load(open(f'savedata/fold{fold}_q{q}_stack.pkl', \"rb\")) for fold in range(5)] for q in range(1, 19)]\n",
    "models_list = [[lgb.Booster(model_file= f\"savedata/fold{fold}_q{q}.lgb\") for fold in range(5)] for q in range(1, 19)]"
   ]
  },
  {
   "cell_type": "code",
   "execution_count": 14,
   "id": "cb5a23dc",
   "metadata": {},
   "outputs": [],
   "source": [
    "f_save = open('dataall.pkl', 'wb')\n",
    "sss = [test_list,test_dict,importance_dict,models_list,models_stack]\n",
    "pickle.dump(sss, f_save)\n",
    "f_save.close()"
   ]
  },
  {
   "cell_type": "code",
   "execution_count": null,
   "id": "e1d515d9",
   "metadata": {},
   "outputs": [],
   "source": []
  }
 ],
 "metadata": {
  "kernelspec": {
   "display_name": "Python 3 (ipykernel)",
   "language": "python",
   "name": "python3"
  },
  "language_info": {
   "codemirror_mode": {
    "name": "ipython",
    "version": 3
   },
   "file_extension": ".py",
   "mimetype": "text/x-python",
   "name": "python",
   "nbconvert_exporter": "python",
   "pygments_lexer": "ipython3",
   "version": "3.10.9"
  },
  "papermill": {
   "default_parameters": {},
   "duration": 689.63572,
   "end_time": "2023-05-27T14:42:14.924685",
   "environment_variables": {},
   "exception": null,
   "input_path": "__notebook__.ipynb",
   "output_path": "__notebook__.ipynb",
   "parameters": {},
   "start_time": "2023-05-27T14:30:45.288965",
   "version": "2.4.0"
  }
 },
 "nbformat": 4,
 "nbformat_minor": 5
}
